{
 "cells": [
  {
   "cell_type": "markdown",
   "id": "8550db16",
   "metadata": {},
   "source": [
    "### Buiding a chatbot with langgraph"
   ]
  },
  {
   "cell_type": "code",
   "execution_count": 2,
   "id": "9fa45b14",
   "metadata": {},
   "outputs": [],
   "source": [
    "from typing import Annotated\n",
    "from typing_extensions import TypedDict\n",
    "from langgraph.graph import StateGraph, START, END\n",
    "from langgraph.graph.message import add_messages"
   ]
  },
  {
   "cell_type": "code",
   "execution_count": 3,
   "id": "855e75d6",
   "metadata": {},
   "outputs": [],
   "source": [
    "class State(TypedDict):\n",
    "  messages:Annotated[list,add_messages]\n",
    "graph_builder=StateGraph(State)\n"
   ]
  },
  {
   "cell_type": "code",
   "execution_count": 4,
   "id": "ef81347c",
   "metadata": {},
   "outputs": [],
   "source": [
    "import os\n",
    "from dotenv import load_dotenv\n",
    "load_dotenv()\n",
    "GROQ_API_KEY=os.getenv(\"GROQ_API_KEY\")"
   ]
  },
  {
   "cell_type": "code",
   "execution_count": 5,
   "id": "e8b61b59",
   "metadata": {},
   "outputs": [],
   "source": [
    "from langchain_groq import ChatGroq\n",
    "llm=ChatGroq(api_key=GROQ_API_KEY,model=\"llama-3.1-8b-instant\",temperature=0.7)"
   ]
  },
  {
   "cell_type": "code",
   "execution_count": 6,
   "id": "3d9bcad7",
   "metadata": {},
   "outputs": [],
   "source": [
    "def chatbot(state:State):#since the input state is of type dict, we are trying to inherit from State\n",
    "  return {\"messages\":[llm.invoke(state[\"messages\"])]}"
   ]
  },
  {
   "cell_type": "code",
   "execution_count": null,
   "id": "d5d97229",
   "metadata": {},
   "outputs": [],
   "source": [
    "graph_builder=StateGraph(State)\n",
    "graph_builder.add_node"
   ]
  }
 ],
 "metadata": {
  "kernelspec": {
   "display_name": "venv",
   "language": "python",
   "name": "python3"
  },
  "language_info": {
   "codemirror_mode": {
    "name": "ipython",
    "version": 3
   },
   "file_extension": ".py",
   "mimetype": "text/x-python",
   "name": "python",
   "nbconvert_exporter": "python",
   "pygments_lexer": "ipython3",
   "version": "3.12.7"
  }
 },
 "nbformat": 4,
 "nbformat_minor": 5
}
