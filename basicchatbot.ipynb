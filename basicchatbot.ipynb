{
 "cells": [
  {
   "cell_type": "markdown",
   "id": "8550db16",
   "metadata": {},
   "source": [
    "### Buiding a chatbot with langgraph"
   ]
  },
  {
   "cell_type": "code",
   "execution_count": 170,
   "id": "9fa45b14",
   "metadata": {},
   "outputs": [],
   "source": [
    "from typing import Annotated\n",
    "from typing_extensions import TypedDict\n",
    "from langgraph.graph import StateGraph, START, END\n",
    "from langgraph.graph.message import add_messages"
   ]
  },
  {
   "cell_type": "code",
   "execution_count": 171,
   "id": "855e75d6",
   "metadata": {},
   "outputs": [],
   "source": [
    "class State(TypedDict):\n",
    "  messages:Annotated[list,add_messages]\n",
    "graph_builder=StateGraph(State)\n"
   ]
  },
  {
   "cell_type": "code",
   "execution_count": 172,
   "id": "ef81347c",
   "metadata": {},
   "outputs": [],
   "source": [
    "import os\n",
    "from dotenv import load_dotenv\n",
    "load_dotenv()\n",
    "GROQ_API_KEY=os.getenv(\"GROQ_API_KEY\")"
   ]
  },
  {
   "cell_type": "code",
   "execution_count": 173,
   "id": "e8b61b59",
   "metadata": {},
   "outputs": [],
   "source": [
    "from langchain_groq import ChatGroq\n",
    "llm=ChatGroq(api_key=GROQ_API_KEY,model=\"llama-3.1-8b-instant\",temperature=0.7)"
   ]
  },
  {
   "cell_type": "code",
   "execution_count": 174,
   "id": "3d9bcad7",
   "metadata": {},
   "outputs": [],
   "source": [
    "def chatbot(state:State):#since the input state is of type dict, we are trying to inherit from State\n",
    "  return {\"messages\":[llm.invoke(state[\"messages\"])]}"
   ]
  },
  {
   "cell_type": "code",
   "execution_count": 175,
   "id": "d5d97229",
   "metadata": {},
   "outputs": [],
   "source": [
    "graph_builder=StateGraph(State)\n",
    "graph_builder.add_node(\"chatbot\",chatbot)\n",
    "graph_builder.add_edge(START,\"chatbot\")#specfiying the node name not the fuction name\n",
    "graph_builder.add_edge(\"chatbot\",END)\n",
    "\n",
    "#compile the graph\n",
    "graph=graph_builder.compile()"
   ]
  },
  {
   "cell_type": "code",
   "execution_count": 176,
   "id": "f49b53f4",
   "metadata": {},
   "outputs": [
    {
     "data": {
      "image/png": "[encoded data removed]",
      "text/plain": [
       "<IPython.core.display.Image object>"
      ]
     },
     "metadata": {},
     "output_type": "display_data"
    }
   ],
   "source": [
    "#visualize the graph\n",
    "from IPython.display import Image,display\n",
    "try:\n",
    "  display(Image(graph.get_graph().draw_mermaid_png()))\n",
    "except Exception:\n",
    "  pass"
   ]
  },
  {
   "cell_type": "code",
   "execution_count": 177,
   "id": "0f064183",
   "metadata": {},
   "outputs": [],
   "source": [
    "response=graph.invoke({\"messages\":\"hi\"})"
   ]
  },
  {
   "cell_type": "code",
   "execution_count": 178,
   "id": "37c5da1c",
   "metadata": {},
   "outputs": [
    {
     "data": {
      "text/plain": [
       "'Hello. Is there something I can help you with or would you like to chat?'"
      ]
     },
     "execution_count": 178,
     "metadata": {},
     "output_type": "execute_result"
    }
   ],
   "source": [
    "response[\"messages\"][-1].content#the message is added in a list by the help of the annotation that act as a reducer\n"
   ]
  },
  {
   "cell_type": "code",
   "execution_count": 179,
   "id": "081ecab0",
   "metadata": {},
   "outputs": [
    {
     "name": "stdout",
     "output_type": "stream",
     "text": [
      "I'm doing well, thank you for asking. I'm a large language model, so I don't have feelings in the same way humans do, but I'm functioning properly and ready to help with any questions or tasks you may have. How about you? How's your day going?\n"
     ]
    }
   ],
   "source": [
    "for event in graph.stream({\"messages\":\"hi how are you?\"}):\n",
    "  for value in event.values():\n",
    "    print(value[\"messages\"][-1].content)"
   ]
  },
  {
   "cell_type": "code",
   "execution_count": 180,
   "id": "c7928930",
   "metadata": {},
   "outputs": [],
   "source": [
    "from langchain_tavily import TavilySearch\n",
    "TAVILY_API_KEY=os.getenv(\"TAVILY_API_KEY\")"
   ]
  },
  {
   "cell_type": "code",
   "execution_count": 181,
   "id": "19685aee",
   "metadata": {},
   "outputs": [
    {
     "data": {
      "text/plain": [
       "{'query': 'What is LangGraph?',\n",
       " 'follow_up_questions': None,\n",
       " 'answer': None,\n",
       " 'images': [],\n",
       " 'results': [{'url': 'https://www.ibm.com/think/topics/langgraph',\n",
       "   'title': 'What is LangGraph? - IBM',\n",
       "   'content': 'LangGraph, created by LangChain, is an open source AI agent framework designed to build, deploy and manage complex generative AI agent workflows. At its core, LangGraph uses the power of graph-based architectures to model and manage the intricate relationships between various components of an AI agent workflow. LangGraph illuminates the processes within an AI workflow, allowing full transparency of the agent’s state. By combining these technologies with a set of APIs and tools, LangGraph provides users with a versatile platform for developing AI solutions and workflows including chatbots, state graphs and other agent-based systems. **Nodes**: In LangGraph, nodes represent individual components or agents within an AI workflow. LangGraph uses enhanced decision-making by modeling complex relationships between nodes, which means it uses AI agents to analyze their past actions and feedback.',\n",
       "   'score': 0.95250803,\n",
       "   'raw_content': None},\n",
       "  {'url': 'https://cobusgreyling.medium.com/langgraph-from-langchain-explained-in-simple-terms-f7cd0c12cdbf',\n",
       "   'title': 'LangGraph From LangChain Explained In Simple Terms',\n",
       "   'content': \"LangGraph is a method for creating state machines for conversational flow by defining them as graphs & it's easier to understand than you might think.\",\n",
       "   'score': 0.9443876,\n",
       "   'raw_content': None}],\n",
       " 'response_time': 0.86,\n",
       " 'request_id': 'f963a464-15d8-49eb-930c-8d414d335313'}"
      ]
     },
     "execution_count": 181,
     "metadata": {},
     "output_type": "execute_result"
    }
   ],
   "source": [
    "tool = TavilySearch(api_key=TAVILY_API_KEY, max_results=2)\n",
    "tool.invoke(\"What is LangGraph?\")"
   ]
  },
  {
   "cell_type": "code",
   "execution_count": 182,
   "id": "31bdcada",
   "metadata": {},
   "outputs": [],
   "source": [
    "def multiply(a:int,b:int)->int:\n",
    "  \"\"\"Multiply a and b\n",
    "  Args:\n",
    "    a (int): first number\n",
    "    b (int): second number\n",
    "    Returns:\n",
    "      int: output int\"\"\"\n",
    "  return a*b"
   ]
  },
  {
   "cell_type": "code",
   "execution_count": 183,
   "id": "7cfbc8ab",
   "metadata": {},
   "outputs": [],
   "source": [
    "tools=[tool,multiply]#here we added both the tools(tavily search and multiply function) to a list"
   ]
  },
  {
   "cell_type": "code",
   "execution_count": 184,
   "id": "43ffc716",
   "metadata": {},
   "outputs": [],
   "source": [
    "llm_with_tools=llm.bind_tools(tools)#here we bind the tools to the llm"
   ]
  },
  {
   "cell_type": "code",
   "execution_count": 185,
   "id": "10a986a7",
   "metadata": {},
   "outputs": [],
   "source": [
    "#stategraph with tools\n",
    "from langgraph.graph import StateGraph, START, END\n",
    "from langgraph.prebuilt import ToolNode,tools_condition\n",
    "from langgraph.checkpoint.memory import MemorySaver\n",
    "\n",
    "memory=MemorySaver()#this will save the conversation in memory\n",
    "#node definition\n",
    "def tool_calling_llm(state:State):\n",
    "  return {\"messages\":[llm_with_tools.invoke(state[\"messages\"])]}\n",
    "#GRAPH\n",
    "builder=StateGraph(State)\n",
    "builder.add_node(\"tool_calling_llm\",tool_calling_llm)\n",
    "builder.add_node(\"tools\",ToolNode(tools))\n",
    "\n",
    "#creating edges(this includes conditional edges)\n",
    "builder.add_edge(START,\"tool_calling_llm\")\n",
    "builder.add_conditional_edges(\n",
    "  \"tool_calling_llm\",\n",
    "  tools_condition\n",
    ")\n",
    "builder.add_edge(\"tools\",\"tool_calling_llm\")\n",
    "builder.add_edge(\"tool_calling_llm\",END)\n",
    "\n",
    "graph=builder.compile(checkpointer=memory)#this compiles the graph and implements the logic"
   ]
  },
  {
   "cell_type": "code",
   "execution_count": 186,
   "id": "4710752c",
   "metadata": {},
   "outputs": [
    {
     "data": {
      "image/png": "[encoded data removed]",
      "text/plain": [
       "<IPython.core.display.Image object>"
      ]
     },
     "metadata": {},
     "output_type": "display_data"
    }
   ],
   "source": [
    "from IPython.display import Image,display\n",
    "try:   \n",
    "  display(Image(builder.compile().get_graph().draw_mermaid_png()))\n",
    "except Exception:\n",
    "  pass"
   ]
  },
  {
   "cell_type": "code",
   "execution_count": 187,
   "id": "5e3da64c",
   "metadata": {},
   "outputs": [
    {
     "name": "stdout",
     "output_type": "stream",
     "text": [
      "==================================\u001b[1m Ai Message \u001b[0m==================================\n",
      "\n",
      "Nice to meet you, Shubham. How can I assist you today?\n"
     ]
    }
   ],
   "source": [
    "#creating a config for memory\n",
    "config={\"configurable\":{\"thread_id\":\"1\"}}\n",
    "response=graph.invoke({\"messages\":\"hello,my name is shubham\"},config=config)\n",
    "response[\"messages\"][-1].pretty_print()\n"
   ]
  },
  {
   "cell_type": "code",
   "execution_count": 189,
   "id": "abd4b568",
   "metadata": {},
   "outputs": [
    {
     "name": "stdout",
     "output_type": "stream",
     "text": [
      "==================================\u001b[1m Ai Message \u001b[0m==================================\n",
      "\n",
      "Shubham.\n"
     ]
    }
   ],
   "source": [
    "response=graph.invoke({\"messages\":\"what is my name as mentioned previously?\"},config=config)\n",
    "response[\"messages\"][-1].pretty_print()"
   ]
  },
  {
   "cell_type": "markdown",
   "id": "fcb03b00",
   "metadata": {},
   "source": [
    "##streaming techniques"
   ]
  },
  {
   "cell_type": "code",
   "execution_count": null,
   "id": "59cb4bf7",
   "metadata": {},
   "outputs": [],
   "source": []
  }
 ],
 "metadata": {
  "kernelspec": {
   "display_name": "venv",
   "language": "python",
   "name": "python3"
  },
  "language_info": {
   "codemirror_mode": {
    "name": "ipython",
    "version": 3
   },
   "file_extension": ".py",
   "mimetype": "text/x-python",
   "name": "python",
   "nbconvert_exporter": "python",
   "pygments_lexer": "ipython3",
   "version": "3.12.7"
  }
 },
 "nbformat": 4,
 "nbformat_minor": 5
}
