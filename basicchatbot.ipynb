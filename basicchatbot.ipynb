{
 "cells": [
  {
   "cell_type": "markdown",
   "id": "8550db16",
   "metadata": {},
   "source": [
    "### Buiding a chatbot with langgraph"
   ]
  },
  {
   "cell_type": "code",
   "execution_count": 33,
   "id": "9fa45b14",
   "metadata": {},
   "outputs": [],
   "source": [
    "from typing import Annotated\n",
    "from typing_extensions import TypedDict\n",
    "from langgraph.graph import StateGraph, START, END\n",
    "from langgraph.graph.message import add_messages"
   ]
  },
  {
   "cell_type": "code",
   "execution_count": 34,
   "id": "855e75d6",
   "metadata": {},
   "outputs": [],
   "source": [
    "class State(TypedDict):\n",
    "  messages:Annotated[list,add_messages]\n",
    "graph_builder=StateGraph(State)\n"
   ]
  },
  {
   "cell_type": "code",
   "execution_count": 35,
   "id": "ef81347c",
   "metadata": {},
   "outputs": [],
   "source": [
    "import os\n",
    "from dotenv import load_dotenv\n",
    "load_dotenv()\n",
    "GROQ_API_KEY=os.getenv(\"GROQ_API_KEY\")"
   ]
  },
  {
   "cell_type": "code",
   "execution_count": 36,
   "id": "e8b61b59",
   "metadata": {},
   "outputs": [],
   "source": [
    "from langchain_groq import ChatGroq\n",
    "llm=ChatGroq(api_key=GROQ_API_KEY,model=\"llama-3.1-8b-instant\",temperature=0.7)"
   ]
  },
  {
   "cell_type": "code",
   "execution_count": 37,
   "id": "3d9bcad7",
   "metadata": {},
   "outputs": [],
   "source": [
    "def chatbot(state:State):#since the input state is of type dict, we are trying to inherit from State\n",
    "  return {\"messages\":[llm.invoke(state[\"messages\"])]}"
   ]
  },
  {
   "cell_type": "code",
   "execution_count": 38,
   "id": "d5d97229",
   "metadata": {},
   "outputs": [],
   "source": [
    "graph_builder=StateGraph(State)\n",
    "graph_builder.add_node(\"chatbot\",chatbot)\n",
    "graph_builder.add_edge(START,\"chatbot\")#specfiying the node name not the fuction name\n",
    "graph_builder.add_edge(\"chatbot\",END)\n",
    "\n",
    "#compile the graph\n",
    "graph=graph_builder.compile()"
   ]
  },
  {
   "cell_type": "code",
   "execution_count": 39,
   "id": "f49b53f4",
   "metadata": {},
   "outputs": [
    {
     "data": {
      "image/png": "[encoded data removed]",
      "text/plain": [
       "<IPython.core.display.Image object>"
      ]
     },
     "metadata": {},
     "output_type": "display_data"
    }
   ],
   "source": [
    "#visualize the graph\n",
    "from IPython.display import Image,display\n",
    "try:\n",
    "  display(Image(graph.get_graph().draw_mermaid_png()))\n",
    "except Exception:\n",
    "  pass"
   ]
  },
  {
   "cell_type": "code",
   "execution_count": 40,
   "id": "0f064183",
   "metadata": {},
   "outputs": [],
   "source": [
    "response=graph.invoke({\"messages\":\"hi\"})"
   ]
  },
  {
   "cell_type": "code",
   "execution_count": 41,
   "id": "37c5da1c",
   "metadata": {},
   "outputs": [
    {
     "data": {
      "text/plain": [
       "'How can I assist you today?'"
      ]
     },
     "execution_count": 41,
     "metadata": {},
     "output_type": "execute_result"
    }
   ],
   "source": [
    "response[\"messages\"][-1].content#the message is added in a list by the help of the annotation that act as a reducer\n"
   ]
  },
  {
   "cell_type": "code",
   "execution_count": 42,
   "id": "081ecab0",
   "metadata": {},
   "outputs": [
    {
     "name": "stdout",
     "output_type": "stream",
     "text": [
      "I'm just a computer program, so I don't have feelings or emotions like humans do, but I'm functioning properly and ready to help you with any questions or tasks you may have. How can I assist you today?\n"
     ]
    }
   ],
   "source": [
    "for event in graph.stream({\"messages\":\"hi how are you?\"}):\n",
    "  for value in event.values():\n",
    "    print(value[\"messages\"][-1].content)"
   ]
  },
  {
   "cell_type": "code",
   "execution_count": 43,
   "id": "c7928930",
   "metadata": {},
   "outputs": [],
   "source": [
    "from langchain_tavily import TavilySearch\n",
    "TAVILY_API_KEY=os.getenv(\"TAVILY_API_KEY\")"
   ]
  },
  {
   "cell_type": "code",
   "execution_count": 44,
   "id": "19685aee",
   "metadata": {},
   "outputs": [
    {
     "data": {
      "text/plain": [
       "{'query': 'What is LangGraph?',\n",
       " 'follow_up_questions': None,\n",
       " 'answer': None,\n",
       " 'images': [],\n",
       " 'results': [{'url': 'https://www.ibm.com/think/topics/langgraph',\n",
       "   'title': 'What is LangGraph? - IBM',\n",
       "   'content': 'LangGraph, created by LangChain, is an open source AI agent framework designed to build, deploy and manage complex generative AI agent workflows. At its core, LangGraph uses the power of graph-based architectures to model and manage the intricate relationships between various components of an AI agent workflow. LangGraph illuminates the processes within an AI workflow, allowing full transparency of the agent’s state. By combining these technologies with a set of APIs and tools, LangGraph provides users with a versatile platform for developing AI solutions and workflows including chatbots, state graphs and other agent-based systems. **Nodes**: In LangGraph, nodes represent individual components or agents within an AI workflow. LangGraph uses enhanced decision-making by modeling complex relationships between nodes, which means it uses AI agents to analyze their past actions and feedback.',\n",
       "   'score': 0.95250803,\n",
       "   'raw_content': None},\n",
       "  {'url': 'https://www.analyticsvidhya.com/blog/2024/07/langgraph-revolutionizing-ai-agent/',\n",
       "   'title': 'What is LangGraph? - Analytics Vidhya',\n",
       "   'content': '* LangGraph is a library built on top of Langchain that is designed to facilitate the creation of cyclic graphs for large language model (LLM) – based AI agents. * Langgraph introduces a chat agent executor that represents the agent state as a list of messages, which is particularly useful for newer, chat-based models. The agent executor class in the Langchain framework was the main tool for building and executing AI agents before LangGraph. Large Language Models (LLMs) are the foundation for designing sophisticated AI agents, and LangGraph, built on top of Langchain, is intended to make the process of creating cyclic graphs easier. Ans. LangGraph addresses the limitations of previous AI agent development frameworks by providing more flexibility, better state management, and support for cyclic execution and multi-agent systems.',\n",
       "   'score': 0.94326943,\n",
       "   'raw_content': None}],\n",
       " 'response_time': 1.19,\n",
       " 'request_id': '8d737253-2c3f-4389-9282-a36e14050054'}"
      ]
     },
     "execution_count": 44,
     "metadata": {},
     "output_type": "execute_result"
    }
   ],
   "source": [
    "tool = TavilySearch(api_key=TAVILY_API_KEY, max_results=2)\n",
    "tool.invoke(\"What is LangGraph?\")"
   ]
  },
  {
   "cell_type": "code",
   "execution_count": 45,
   "id": "31bdcada",
   "metadata": {},
   "outputs": [],
   "source": [
    "def multiply(a:int,b:int)->int:\n",
    "  \"\"\"Multiply a and b\n",
    "  Args:\n",
    "    a (int): first number\n",
    "    b (int): second number\n",
    "    Returns:\n",
    "      int: output int\"\"\"\n",
    "  return a*b"
   ]
  },
  {
   "cell_type": "code",
   "execution_count": 46,
   "id": "7cfbc8ab",
   "metadata": {},
   "outputs": [],
   "source": [
    "tools=[tool,multiply]#here we added both the tools(tavily search and multiply function) to a list"
   ]
  },
  {
   "cell_type": "code",
   "execution_count": 47,
   "id": "43ffc716",
   "metadata": {},
   "outputs": [],
   "source": [
    "llm_with_tools=llm.bind_tools(tools)#here we bind the tools to the llm"
   ]
  },
  {
   "cell_type": "code",
   "execution_count": 48,
   "id": "10a986a7",
   "metadata": {},
   "outputs": [],
   "source": [
    "#stategraph with tools\n",
    "from langgraph.graph import StateGraph, START, END\n",
    "from langgraph.prebuilt import ToolNode,tools_condition\n",
    "from langgraph.checkpoint.memory import MemorySaver\n",
    "\n",
    "memory=MemorySaver()#this will save the conversation in memory\n",
    "#node definition\n",
    "def tool_calling_llm(state:State):\n",
    "  return {\"messages\":[llm_with_tools.invoke(state[\"messages\"])]}\n",
    "#GRAPH\n",
    "builder=StateGraph(State)\n",
    "builder.add_node(\"tool_calling_llm\",tool_calling_llm)\n",
    "builder.add_node(\"tools\",ToolNode(tools))\n",
    "\n",
    "#creating edges(this includes conditional edges)\n",
    "builder.add_edge(START,\"tool_calling_llm\")\n",
    "builder.add_conditional_edges(\n",
    "  \"tool_calling_llm\",\n",
    "  tools_condition\n",
    ")\n",
    "builder.add_edge(\"tools\",\"tool_calling_llm\")\n",
    "builder.add_edge(\"tool_calling_llm\",END)\n",
    "\n",
    "graph=builder.compile(checkpointer=memory)#this compiles the graph and implements the logic"
   ]
  },
  {
   "cell_type": "code",
   "execution_count": 49,
   "id": "4710752c",
   "metadata": {},
   "outputs": [
    {
     "data": {
      "image/png": "[encoded data removed]",
      "text/plain": [
       "<IPython.core.display.Image object>"
      ]
     },
     "metadata": {},
     "output_type": "display_data"
    }
   ],
   "source": [
    "from IPython.display import Image,display\n",
    "try:   \n",
    "  display(Image(builder.compile().get_graph().draw_mermaid_png()))\n",
    "except Exception:\n",
    "  pass"
   ]
  },
  {
   "cell_type": "code",
   "execution_count": 50,
   "id": "5e3da64c",
   "metadata": {},
   "outputs": [
    {
     "name": "stdout",
     "output_type": "stream",
     "text": [
      "==================================\u001b[1m Ai Message \u001b[0m==================================\n",
      "\n",
      "Hello Shubham, it's nice to meet you. How can I assist you today?\n"
     ]
    }
   ],
   "source": [
    "#creating a config for memory\n",
    "config={\"configurable\":{\"thread_id\":\"1\"}}\n",
    "response=graph.invoke({\"messages\":\"hello,my name is shubham\"},config=config)\n",
    "response[\"messages\"][-1].pretty_print()\n"
   ]
  },
  {
   "cell_type": "code",
   "execution_count": 53,
   "id": "abd4b568",
   "metadata": {},
   "outputs": [
    {
     "name": "stdout",
     "output_type": "stream",
     "text": [
      "==================================\u001b[1m Ai Message \u001b[0m==================================\n",
      "\n",
      "Your name as mentioned previously is Shubham.\n"
     ]
    }
   ],
   "source": [
    "response=graph.invoke({\"messages\":\"what is my name as mentioned previously?\"},config=config)\n",
    "response[\"messages\"][-1].pretty_print()"
   ]
  },
  {
   "cell_type": "markdown",
   "id": "fcb03b00",
   "metadata": {},
   "source": [
    "##streaming techniques"
   ]
  },
  {
   "cell_type": "code",
   "execution_count": null,
   "id": "59cb4bf7",
   "metadata": {},
   "outputs": [
    {
     "name": "stdout",
     "output_type": "stream",
     "text": [
      "{'messages': [HumanMessage(content='is it possible to make a car faster than speed of light', additional_kwargs={}, response_metadata={}, id='ccaa7dab-f1f8-491c-a8ce-5f269a7b3ccf')]}\n",
      "{'messages': [HumanMessage(content='is it possible to make a car faster than speed of light', additional_kwargs={}, response_metadata={}, id='ccaa7dab-f1f8-491c-a8ce-5f269a7b3ccf'), AIMessage(content='', additional_kwargs={'tool_calls': [{'id': 'sr05eybjd', 'function': {'arguments': '{\"query\":\"is it possible to make a car faster than the speed of light\",\"topic\":\"general\"}', 'name': 'tavily_search'}, 'type': 'function'}]}, response_metadata={'token_usage': {'completion_tokens': 34, 'prompt_tokens': 1907, 'total_tokens': 1941, 'completion_time': 0.052932938, 'prompt_time': 0.173041026, 'queue_time': 0.050369273, 'total_time': 0.225973964}, 'model_name': 'llama-3.1-8b-instant', 'system_fingerprint': 'fp_2115512ff6', 'service_tier': 'on_demand', 'finish_reason': 'tool_calls', 'logprobs': None}, id='run--a2e96577-ef50-42cb-9470-342da9d05f93-0', tool_calls=[{'name': 'tavily_search', 'args': {'query': 'is it possible to make a car faster than the speed of light', 'topic': 'general'}, 'id': 'sr05eybjd', 'type': 'tool_call'}], usage_metadata={'input_tokens': 1907, 'output_tokens': 34, 'total_tokens': 1941})]}\n",
      "{'messages': [HumanMessage(content='is it possible to make a car faster than speed of light', additional_kwargs={}, response_metadata={}, id='ccaa7dab-f1f8-491c-a8ce-5f269a7b3ccf'), AIMessage(content='', additional_kwargs={'tool_calls': [{'id': 'sr05eybjd', 'function': {'arguments': '{\"query\":\"is it possible to make a car faster than the speed of light\",\"topic\":\"general\"}', 'name': 'tavily_search'}, 'type': 'function'}]}, response_metadata={'token_usage': {'completion_tokens': 34, 'prompt_tokens': 1907, 'total_tokens': 1941, 'completion_time': 0.052932938, 'prompt_time': 0.173041026, 'queue_time': 0.050369273, 'total_time': 0.225973964}, 'model_name': 'llama-3.1-8b-instant', 'system_fingerprint': 'fp_2115512ff6', 'service_tier': 'on_demand', 'finish_reason': 'tool_calls', 'logprobs': None}, id='run--a2e96577-ef50-42cb-9470-342da9d05f93-0', tool_calls=[{'name': 'tavily_search', 'args': {'query': 'is it possible to make a car faster than the speed of light', 'topic': 'general'}, 'id': 'sr05eybjd', 'type': 'tool_call'}], usage_metadata={'input_tokens': 1907, 'output_tokens': 34, 'total_tokens': 1941}), ToolMessage(content='{\"query\": \"is it possible to make a car faster than the speed of light\", \"follow_up_questions\": null, \"answer\": null, \"images\": [], \"results\": [{\"url\": \"https://science.howstuffworks.com/science-vs-myth/what-if/what-if-faster-than-speed-of-light.htm\", \"title\": \"What If You Traveled Faster Than the Speed of Light? | HowStuffWorks\", \"content\": \"# What If You Traveled Faster Than the Speed of Light? For this reason, no normal object can travel as fast or faster than the speed of light. In a March 2021 paper published in the journal Classical and Quantum Gravity, astrophysicist Erik Lentz of the University of Göttingen in Germany proposed the idea of rearranging space-time to create a warp bubble, inside which a spacecraft might be able to travel at faster-than-light speeds. Hypothetically, this means that if an object could travel at the speed of light, it could go around the Earth 7.5 times in one second. \\\\\"Will We Ever Travel at the Speed of Light?\\\\\" Time. (Feb. 16, 2022) http://www.pbs.org/wgbh/nova/physics/Sagan-Time-Travel.html\", \"score\": 0.98545, \"raw_content\": null}, {\"url\": \"https://www.quora.com/Doesnt-light-from-a-moving-vehicle-becomes-faster-than-actual-speed-of-light-as-the-speed-of-vehicle-is-added-to-its-speed\", \"title\": \"Doesn\\'t light from a moving vehicle becomes faster than ... - Quora\", \"content\": \"No. Because the speed of light is the fastest anything can travel you can\\'t add to it. A vehicle moving at the speed of light can\\'t push light ahead of it\", \"score\": 0.98262, \"raw_content\": null}], \"response_time\": 1.46, \"request_id\": \"11d6693f-4574-4b5e-a7d9-ece34f0d577e\"}', name='tavily_search', id='bef4d2d6-d981-4f08-880e-256438c1fc30', tool_call_id='sr05eybjd')]}\n",
      "{'messages': [HumanMessage(content='is it possible to make a car faster than speed of light', additional_kwargs={}, response_metadata={}, id='ccaa7dab-f1f8-491c-a8ce-5f269a7b3ccf'), AIMessage(content='', additional_kwargs={'tool_calls': [{'id': 'sr05eybjd', 'function': {'arguments': '{\"query\":\"is it possible to make a car faster than the speed of light\",\"topic\":\"general\"}', 'name': 'tavily_search'}, 'type': 'function'}]}, response_metadata={'token_usage': {'completion_tokens': 34, 'prompt_tokens': 1907, 'total_tokens': 1941, 'completion_time': 0.052932938, 'prompt_time': 0.173041026, 'queue_time': 0.050369273, 'total_time': 0.225973964}, 'model_name': 'llama-3.1-8b-instant', 'system_fingerprint': 'fp_2115512ff6', 'service_tier': 'on_demand', 'finish_reason': 'tool_calls', 'logprobs': None}, id='run--a2e96577-ef50-42cb-9470-342da9d05f93-0', tool_calls=[{'name': 'tavily_search', 'args': {'query': 'is it possible to make a car faster than the speed of light', 'topic': 'general'}, 'id': 'sr05eybjd', 'type': 'tool_call'}], usage_metadata={'input_tokens': 1907, 'output_tokens': 34, 'total_tokens': 1941}), ToolMessage(content='{\"query\": \"is it possible to make a car faster than the speed of light\", \"follow_up_questions\": null, \"answer\": null, \"images\": [], \"results\": [{\"url\": \"https://science.howstuffworks.com/science-vs-myth/what-if/what-if-faster-than-speed-of-light.htm\", \"title\": \"What If You Traveled Faster Than the Speed of Light? | HowStuffWorks\", \"content\": \"# What If You Traveled Faster Than the Speed of Light? For this reason, no normal object can travel as fast or faster than the speed of light. In a March 2021 paper published in the journal Classical and Quantum Gravity, astrophysicist Erik Lentz of the University of Göttingen in Germany proposed the idea of rearranging space-time to create a warp bubble, inside which a spacecraft might be able to travel at faster-than-light speeds. Hypothetically, this means that if an object could travel at the speed of light, it could go around the Earth 7.5 times in one second. \\\\\"Will We Ever Travel at the Speed of Light?\\\\\" Time. (Feb. 16, 2022) http://www.pbs.org/wgbh/nova/physics/Sagan-Time-Travel.html\", \"score\": 0.98545, \"raw_content\": null}, {\"url\": \"https://www.quora.com/Doesnt-light-from-a-moving-vehicle-becomes-faster-than-actual-speed-of-light-as-the-speed-of-vehicle-is-added-to-its-speed\", \"title\": \"Doesn\\'t light from a moving vehicle becomes faster than ... - Quora\", \"content\": \"No. Because the speed of light is the fastest anything can travel you can\\'t add to it. A vehicle moving at the speed of light can\\'t push light ahead of it\", \"score\": 0.98262, \"raw_content\": null}], \"response_time\": 1.46, \"request_id\": \"11d6693f-4574-4b5e-a7d9-ece34f0d577e\"}', name='tavily_search', id='bef4d2d6-d981-4f08-880e-256438c1fc30', tool_call_id='sr05eybjd'), AIMessage(content='Based on the search results, it is not possible to make a car faster than the speed of light. The speed of light is the fastest speed at which any object or information can travel in a vacuum, and it is a fundamental limit imposed by the laws of physics. Any attempt to accelerate an object to or beyond the speed of light would require an infinite amount of energy, which is not physically possible.', additional_kwargs={}, response_metadata={'token_usage': {'completion_tokens': 82, 'prompt_tokens': 2388, 'total_tokens': 2470, 'completion_time': 0.105685268, 'prompt_time': 0.146381779, 'queue_time': 0.149062507, 'total_time': 0.252067047}, 'model_name': 'llama-3.1-8b-instant', 'system_fingerprint': 'fp_2115512ff6', 'service_tier': 'on_demand', 'finish_reason': 'stop', 'logprobs': None}, id='run--ebaff048-1ef6-4429-a7c5-cecbb59f0aa6-0', usage_metadata={'input_tokens': 2388, 'output_tokens': 82, 'total_tokens': 2470})]}\n"
     ]
    }
   ],
   "source": [
    "config = {\"configurable\": {\"thread_id\": \"2\"}}#why do we need this?---> to create a new thread for a new conversation\n",
    "for chunk in graph.stream({\"messages\":\"is it possible to make a car faster than speed of light\"},config,stream_mode=\"values\"):\n",
    "  print(chunk)"
   ]
  },
  {
   "cell_type": "markdown",
   "id": "1999c5b1",
   "metadata": {},
   "source": [
    "#Human in the loop"
   ]
  },
  {
   "cell_type": "code",
   "execution_count": 94,
   "id": "2689d9bb",
   "metadata": {},
   "outputs": [],
   "source": [
    "llm=ChatGroq(api_key=GROQ_API_KEY,model=\"deepseek-r1-distill-llama-70b\",temperature=0.7)"
   ]
  },
  {
   "cell_type": "code",
   "execution_count": 95,
   "id": "4baa9b67",
   "metadata": {},
   "outputs": [
    {
     "data": {
      "text/plain": [
       "ChatGroq(client=<groq.resources.chat.completions.Completions object at 0x00000231575E0350>, async_client=<groq.resources.chat.completions.AsyncCompletions object at 0x000002315757D0D0>, model_name='deepseek-r1-distill-llama-70b', model_kwargs={}, groq_api_key=SecretStr('**********'))"
      ]
     },
     "execution_count": 95,
     "metadata": {},
     "output_type": "execute_result"
    }
   ],
   "source": [
    "llm"
   ]
  },
  {
   "cell_type": "code",
   "execution_count": 96,
   "id": "966eb97d",
   "metadata": {},
   "outputs": [],
   "source": [
    "from langgraph.types import Command,interrupt\n",
    "#Human in the loop\n",
    "class State_(TypedDict):\n",
    "  messages:Annotated[list,add_messages]\n",
    "graph_builder=StateGraph(State_)"
   ]
  },
  {
   "cell_type": "code",
   "execution_count": 97,
   "id": "a6215d8b",
   "metadata": {},
   "outputs": [],
   "source": [
    "from langchain_core.tools import tool"
   ]
  },
  {
   "cell_type": "code",
   "execution_count": 98,
   "id": "ab430d15",
   "metadata": {},
   "outputs": [],
   "source": [
    "@tool #tool library used to create a human tool\n",
    "def human_assistance(query:str)->str:\n",
    "  \"\"\"Request assistance from human\"\"\"\n",
    "  human_response=interrupt({\"query\":query})\n",
    "  return human_response[\"data\"]"
   ]
  },
  {
   "cell_type": "code",
   "execution_count": 99,
   "id": "8e15c615",
   "metadata": {},
   "outputs": [],
   "source": [
    "tool = TavilySearch(max_results=2)\n",
    "tools=[tool,human_assistance]\n",
    "llm_with_tools=llm.bind_tools(tools)#this is used for binding multiple tools to the llm\n",
    "\n"
   ]
  },
  {
   "cell_type": "code",
   "execution_count": 100,
   "id": "16efc1af",
   "metadata": {},
   "outputs": [],
   "source": [
    "#creating the graph"
   ]
  },
  {
   "cell_type": "code",
   "execution_count": 101,
   "id": "b7c208ed",
   "metadata": {},
   "outputs": [
    {
     "data": {
      "text/plain": [
       "<langgraph.graph.state.StateGraph at 0x2315757ebd0>"
      ]
     },
     "execution_count": 101,
     "metadata": {},
     "output_type": "execute_result"
    }
   ],
   "source": [
    "def chatbot(state:State_):\n",
    "  message=llm_with_tools.invoke(state[\"messages\"])\n",
    "  return {\"messages\":[message]}\n",
    "graph_builder.add_node(\"chatbot\",chatbot)#when we create a node we first assign a name to it then function it will perform\n",
    "tool_node=ToolNode(tools=tools)\n",
    "graph_builder.add_node(\"tools\",tool_node)\n",
    "graph_builder.add_edge(START,\"chatbot\")#when we create an edge we first specify the starting node then the ending node\n",
    "graph_builder.add_conditional_edges(\n",
    "  \"chatbot\",\n",
    "  tools_condition,\n",
    "  )\n",
    "graph_builder.add_edge(\"tools\",\"chatbot\")\n",
    "graph_builder.add_edge(\"chatbot\",END)"
   ]
  },
  {
   "cell_type": "code",
   "execution_count": 102,
   "id": "f2044850",
   "metadata": {},
   "outputs": [],
   "source": [
    "memory=MemorySaver()\n",
    "graph=graph_builder.compile(checkpointer=memory)"
   ]
  },
  {
   "cell_type": "code",
   "execution_count": 103,
   "id": "3d89ad41",
   "metadata": {},
   "outputs": [
    {
     "data": {
      "image/png": "[encoded data removed]",
      "text/plain": [
       "<IPython.core.display.Image object>"
      ]
     },
     "metadata": {},
     "output_type": "display_data"
    }
   ],
   "source": [
    "from IPython.display import Image,display\n",
    "try:\n",
    "  display(Image(graph.get_graph().draw_mermaid_png()))\n",
    "except Exception:\n",
    "  pass"
   ]
  },
  {
   "cell_type": "code",
   "execution_count": 110,
   "id": "1d365f44",
   "metadata": {},
   "outputs": [
    {
     "name": "stdout",
     "output_type": "stream",
     "text": [
      "================================\u001b[1m Human Message \u001b[0m=================================\n",
      "\n",
      "what is langgraph?i need some expert guidance and assistance for buildeing an ai agent .could you request assistance for me?\n",
      "==================================\u001b[1m Ai Message \u001b[0m==================================\n",
      "\n",
      "LangGraph is an AI model developed by Anthropic, designed for a variety of natural language processing tasks, including text generation, summarization, and conversation. It is part of the broader category of large language models (LLMs) like GPT, and it is known for its ability to understand and generate human-like text.\n",
      "\n",
      "If you're looking to build an AI agent, I can certainly help guide you through the process. However, if you'd like to request expert assistance, here's how you can do it:\n",
      "Tool Calls:\n",
      "  human_assistance (25yvqrcek)\n",
      " Call ID: 25yvqrcek\n",
      "  Args:\n",
      "    query: I need expert guidance and assistance for building an AI agent.\n"
     ]
    }
   ],
   "source": [
    "user_input=\"what is langgraph?i need some expert guidance and assistance for buildeing an ai agent .could you request assistance for me?\"\n",
    "config ={\"configurable\":{\"thread_id\":\"1\"}}\n",
    "\n",
    "events=graph.stream(\n",
    "  {\"messages\":user_input},\n",
    "  config,\n",
    "  stream_mode=\"values\",\n",
    ")\n",
    "for event in events:\n",
    "  if \"messages\" in event:\n",
    "    event[\"messages\"][-1].pretty_print()"
   ]
  },
  {
   "cell_type": "code",
   "execution_count": 111,
   "id": "3616f42c",
   "metadata": {},
   "outputs": [
    {
     "name": "stdout",
     "output_type": "stream",
     "text": [
      "==================================\u001b[1m Ai Message \u001b[0m==================================\n",
      "\n",
      "LangGraph is an AI model developed by Anthropic, designed for a variety of natural language processing tasks, including text generation, summarization, and conversation. It is part of the broader category of large language models (LLMs) like GPT, and it is known for its ability to understand and generate human-like text.\n",
      "\n",
      "If you're looking to build an AI agent, I can certainly help guide you through the process. However, if you'd like to request expert assistance, here's how you can do it:\n",
      "Tool Calls:\n",
      "  human_assistance (25yvqrcek)\n",
      " Call ID: 25yvqrcek\n",
      "  Args:\n",
      "    query: I need expert guidance and assistance for building an AI agent.\n",
      "=================================\u001b[1m Tool Message \u001b[0m=================================\n",
      "Name: human_assistance\n",
      "\n",
      "Sure, I can help you with that. LangGraph is a powerful framework for building AI agents using state graphs. It allows you to define states, transitions, and actions in a structured way, making it easier to manage complex workflows. If you have any specific questions or need further assistance, feel free to ask!\n",
      "==================================\u001b[1m Ai Message \u001b[0m==================================\n",
      "\n",
      "LangGraph is a framework for building AI agents that uses state graphs to manage complex workflows. Here’s a concise guide to get you started:\n",
      "\n",
      "1. **Understanding LangGraph**: It’s a structured approach to create AI agents by defining states, transitions, and actions. This makes managing intricate workflows more straightforward.\n",
      "\n",
      "2. **Getting Started**: \n",
      "   - Review the official LangGraph documentation for installation and setup instructions.\n",
      "   - Explore tutorials or community resources to understand state graphs and how they apply to AI agents.\n",
      "\n",
      "3. **Community & Resources**: Engage with forums or groups where LangGraph is discussed. These communities can offer valuable insights and support.\n",
      "\n",
      "If you have specific questions or need deeper guidance, feel free to ask!\n"
     ]
    }
   ],
   "source": [
    "human_response=(\"Sure, I can help you with that. LangGraph is a powerful framework for building AI agents using state graphs. It allows you to define states, transitions, and actions in a structured way, making it easier to manage complex workflows. If you have any specific questions or need further assistance, feel free to ask!\")\n",
    "human_command=Command(resume={\"data\":human_response})\n",
    "events=graph.stream(\n",
    "  human_command,\n",
    "  config,\n",
    "  stream_mode=\"values\"\n",
    ")\n",
    "for event in events:\n",
    "  if \"messages\" in event:\n",
    "    event[\"messages\"][-1].pretty_print()"
   ]
  },
  {
   "cell_type": "code",
   "execution_count": null,
   "id": "fd26c55e",
   "metadata": {},
   "outputs": [],
   "source": [
    "  "
   ]
  }
 ],
 "metadata": {
  "kernelspec": {
   "display_name": "venv",
   "language": "python",
   "name": "python3"
  },
  "language_info": {
   "codemirror_mode": {
    "name": "ipython",
    "version": 3
   },
   "file_extension": ".py",
   "mimetype": "text/x-python",
   "name": "python",
   "nbconvert_exporter": "python",
   "pygments_lexer": "ipython3",
   "version": "3.12.7"
  }
 },
 "nbformat": 4,
 "nbformat_minor": 5
}
